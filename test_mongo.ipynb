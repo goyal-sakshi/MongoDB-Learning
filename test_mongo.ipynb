{
 "cells": [
  {
   "cell_type": "code",
   "execution_count": 1,
   "metadata": {},
   "outputs": [],
   "source": [
    "from pymongo import MongoClient\n",
    "import random\n",
    "from datetime import datetime\n",
    "from datetime import timedelta"
   ]
  },
  {
   "cell_type": "code",
   "execution_count": 2,
   "metadata": {},
   "outputs": [
    {
     "data": {
      "text/plain": [
       "MongoClient(host=['localhost:27017'], document_class=dict, tz_aware=False, connect=True)"
      ]
     },
     "execution_count": 2,
     "metadata": {},
     "output_type": "execute_result"
    }
   ],
   "source": [
    "client = MongoClient('localhost', 27017)\n",
    "client"
   ]
  },
  {
   "cell_type": "code",
   "execution_count": 3,
   "metadata": {},
   "outputs": [
    {
     "data": {
      "text/plain": [
       "[u'admin', u'config', u'local', u'sagoyal']"
      ]
     },
     "execution_count": 3,
     "metadata": {},
     "output_type": "execute_result"
    }
   ],
   "source": [
    "client.list_database_names()"
   ]
  },
  {
   "cell_type": "code",
   "execution_count": 4,
   "metadata": {},
   "outputs": [
    {
     "data": {
      "text/plain": [
       "Database(MongoClient(host=['localhost:27017'], document_class=dict, tz_aware=False, connect=True), u'sagoyal')"
      ]
     },
     "execution_count": 4,
     "metadata": {},
     "output_type": "execute_result"
    }
   ],
   "source": [
    "sagoyal = client['sagoyal']\n",
    "sagoyal"
   ]
  },
  {
   "cell_type": "code",
   "execution_count": 5,
   "metadata": {},
   "outputs": [
    {
     "data": {
      "text/plain": [
       "Collection(Database(MongoClient(host=['localhost:27017'], document_class=dict, tz_aware=False, connect=True), u'sagoyal'), u'suite_details')"
      ]
     },
     "execution_count": 5,
     "metadata": {},
     "output_type": "execute_result"
    }
   ],
   "source": [
    "suite_table = sagoyal['suite_details']\n",
    "suite_table"
   ]
  },
  {
   "cell_type": "code",
   "execution_count": 6,
   "metadata": {},
   "outputs": [],
   "source": [
    "suite_data = [\n",
    "    { str(random.randint(0,100)): {\n",
    "            'r_run_id': str(random.random()),\n",
    "            'tc_run_id': str(random.random()),\n",
    "            's_start_date': datetime.now(),\n",
    "            'end_date': datetime.now() + timedelta(1),\n",
    "            'overall_run_tye': 'AUTOSYS'}\n",
    "    },\n",
    "    { str(random.randint(0,100)): {\n",
    "            'r_run_id': str(random.random()),\n",
    "            'tc_run_id': str(random.random()),\n",
    "            's_start_date': datetime.now(),\n",
    "            'end_date': datetime.now() + timedelta(1),\n",
    "            'overall_run_tye': 'ON DEMAND'}\n",
    "    },\n",
    "    { str(random.randint(0,100)): {\n",
    "            'r_run_id': str(random.random()),\n",
    "            'tc_run_id': str(random.random()),\n",
    "            's_start_date': datetime.now(),\n",
    "            'end_date': datetime.now() + timedelta(1),\n",
    "            'overall_run_tye': 'AUTOSYS'}\n",
    "    },\n",
    "    { str(random.randint(0,100)): {\n",
    "            'r_run_id': str(random.random()),\n",
    "            'tc_run_id': str(random.random()),\n",
    "            's_start_date': datetime.now(),\n",
    "            'end_date': datetime.now() + timedelta(1),\n",
    "            'overall_run_tye': 'CI_CT'}\n",
    "    }\n",
    "]"
   ]
  },
  {
   "cell_type": "code",
   "execution_count": 18,
   "metadata": {},
   "outputs": [
    {
     "data": {
      "text/plain": [
       "<pymongo.results.InsertManyResult at 0x4eba748>"
      ]
     },
     "execution_count": 18,
     "metadata": {},
     "output_type": "execute_result"
    }
   ],
   "source": [
    "suite_table.insert_many(suite_data)"
   ]
  },
  {
   "cell_type": "code",
   "execution_count": 7,
   "metadata": {},
   "outputs": [
    {
     "data": {
      "text/plain": [
       "[u'suite_details']"
      ]
     },
     "execution_count": 7,
     "metadata": {},
     "output_type": "execute_result"
    }
   ],
   "source": [
    "sagoyal.list_collection_names()"
   ]
  },
  {
   "cell_type": "code",
   "execution_count": 31,
   "metadata": {},
   "outputs": [],
   "source": [
    "row = {\n",
    "    str(random.randint(0,100)): {\n",
    "            'r_run_id': str(random.random()),\n",
    "            'tc_run_id': str(random.random()),\n",
    "            's_start_date': datetime.now(),\n",
    "            'end_date': datetime.now() + timedelta(3),\n",
    "            'overall_run_tye': 'CI_CT'}\n",
    "                                       }"
   ]
  },
  {
   "cell_type": "code",
   "execution_count": 32,
   "metadata": {},
   "outputs": [
    {
     "data": {
      "text/plain": [
       "<pymongo.results.InsertOneResult at 0x641c948>"
      ]
     },
     "execution_count": 32,
     "metadata": {},
     "output_type": "execute_result"
    }
   ],
   "source": [
    "insert_result = suite_table.insert_one(row)\n",
    "insert_result"
   ]
  },
  {
   "cell_type": "code",
   "execution_count": 8,
   "metadata": {},
   "outputs": [
    {
     "name": "stdout",
     "output_type": "stream",
     "text": [
      "{u'_id': ObjectId('5eb0580770af624e7e574823'), u'7': {u'overall_run_tye': u'AUTOSYS', u'r_run_id': u'0.91249301878', u's_start_date': datetime.datetime(2020, 5, 4, 23, 29, 21, 704000), u'end_date': datetime.datetime(2020, 5, 5, 23, 29, 21, 704000), u'tc_run_id': u'0.208343218928'}}\n",
      "{u'77': {u'overall_run_tye': u'ON DEMAND', u'r_run_id': u'0.0600031815037', u's_start_date': datetime.datetime(2020, 5, 4, 23, 29, 21, 704000), u'end_date': datetime.datetime(2020, 5, 5, 23, 29, 21, 704000), u'tc_run_id': u'0.200558936679'}, u'_id': ObjectId('5eb0580770af624e7e574824')}\n",
      "{u'_id': ObjectId('5eb0580770af624e7e574825'), u'29': {u'overall_run_tye': u'AUTOSYS', u'r_run_id': u'0.231056262822', u's_start_date': datetime.datetime(2020, 5, 4, 23, 29, 21, 704000), u'end_date': datetime.datetime(2020, 5, 5, 23, 29, 21, 704000), u'tc_run_id': u'0.0040981530089'}}\n",
      "{u'_id': ObjectId('5eb0580770af624e7e574826'), u'16': {u'overall_run_tye': u'CI_CT', u'r_run_id': u'0.451730604352', u's_start_date': datetime.datetime(2020, 5, 4, 23, 29, 21, 704000), u'end_date': datetime.datetime(2020, 5, 5, 23, 29, 21, 704000), u'tc_run_id': u'0.941951860249'}}\n",
      "{u'_id': ObjectId('5eb05a6070af624e7e574827'), u'34': {u'overall_run_tye': u'CI_CT', u'r_run_id': u'0.235111223096', u's_start_date': datetime.datetime(2020, 5, 4, 23, 39, 36, 368000), u'end_date': datetime.datetime(2020, 5, 7, 23, 39, 36, 368000), u'tc_run_id': u'0.790640122766'}}\n",
      "{u'99': {u'overall_run_tye': u'CI_CT', u'r_run_id': u'0.638538090832', u's_start_date': datetime.datetime(2020, 5, 4, 23, 39, 38, 781000), u'end_date': datetime.datetime(2020, 5, 7, 23, 39, 38, 781000), u'tc_run_id': u'0.138540807923'}, u'_id': ObjectId('5eb05a6270af624e7e574828')}\n",
      "{u'54': {u'overall_run_tye': u'CI_CT', u'r_run_id': u'0.183103226008', u's_start_date': datetime.datetime(2020, 5, 4, 23, 41, 37, 268000), u'end_date': datetime.datetime(2020, 5, 7, 23, 41, 37, 268000), u'tc_run_id': u'0.613903180743'}, u'_id': ObjectId('5eb05ae070af624e7e574829')}\n",
      "{u'_id': ObjectId('5eb05b3470af624e7e57482a'), u'81': {u'overall_run_tye': u'CI_CT', u'r_run_id': u'0.971083879107', u's_start_date': datetime.datetime(2020, 5, 4, 23, 43, 8, 174000), u'end_date': datetime.datetime(2020, 5, 7, 23, 43, 8, 174000), u'tc_run_id': u'0.376353393544'}}\n"
     ]
    }
   ],
   "source": [
    "for i in suite_table.find():\n",
    "    print i"
   ]
  },
  {
   "cell_type": "code",
   "execution_count": 35,
   "metadata": {},
   "outputs": [
    {
     "data": {
      "text/plain": [
       "True"
      ]
     },
     "execution_count": 35,
     "metadata": {},
     "output_type": "execute_result"
    }
   ],
   "source": [
    "insert_result.acknowledged"
   ]
  },
  {
   "cell_type": "code",
   "execution_count": 37,
   "metadata": {},
   "outputs": [
    {
     "data": {
      "text/plain": [
       "ObjectId('5eb05b3470af624e7e57482a')"
      ]
     },
     "execution_count": 37,
     "metadata": {},
     "output_type": "execute_result"
    }
   ],
   "source": [
    "insert_result.inserted_id"
   ]
  },
  {
   "cell_type": "code",
   "execution_count": 39,
   "metadata": {},
   "outputs": [
    {
     "data": {
      "text/plain": [
       "{u'81': {u'end_date': datetime.datetime(2020, 5, 7, 23, 43, 8, 174000),\n",
       "  u'overall_run_tye': u'CI_CT',\n",
       "  u'r_run_id': u'0.971083879107',\n",
       "  u's_start_date': datetime.datetime(2020, 5, 4, 23, 43, 8, 174000),\n",
       "  u'tc_run_id': u'0.376353393544'},\n",
       " u'_id': ObjectId('5eb05b3470af624e7e57482a')}"
      ]
     },
     "execution_count": 39,
     "metadata": {},
     "output_type": "execute_result"
    }
   ],
   "source": [
    "suite_table.find_one(insert_result.inserted_id)"
   ]
  },
  {
   "cell_type": "code",
   "execution_count": 9,
   "metadata": {},
   "outputs": [],
   "source": [
    "r_run_id = {'r_run_id' :'0.91249301878'}"
   ]
  },
  {
   "cell_type": "code",
   "execution_count": 17,
   "metadata": {},
   "outputs": [],
   "source": [
    "update_result = suite_table.update_one(r_run_id, {'$set': {'r_run_id': 'M_0.91249301878'}}, upsert=True)"
   ]
  },
  {
   "cell_type": "code",
   "execution_count": 13,
   "metadata": {},
   "outputs": [
    {
     "data": {
      "text/plain": [
       "{u'n': 1,\n",
       " u'nModified': 0,\n",
       " u'ok': 1.0,\n",
       " 'updatedExisting': False,\n",
       " u'upserted': ObjectId('5eb113b01dca09bdca31b1b3')}"
      ]
     },
     "execution_count": 13,
     "metadata": {},
     "output_type": "execute_result"
    }
   ],
   "source": [
    "update_result.raw_result\n",
    "\n",
    "# updateExisting is False, bcoz a new fi"
   ]
  },
  {
   "cell_type": "code",
   "execution_count": 18,
   "metadata": {},
   "outputs": [
    {
     "data": {
      "text/plain": [
       "{u'n': 1,\n",
       " u'nModified': 0,\n",
       " u'ok': 1.0,\n",
       " 'updatedExisting': False,\n",
       " u'upserted': ObjectId('5eb1189b1dca09bdca31b242')}"
      ]
     },
     "execution_count": 18,
     "metadata": {},
     "output_type": "execute_result"
    }
   ],
   "source": [
    "update_result.raw_result"
   ]
  },
  {
   "cell_type": "code",
   "execution_count": 21,
   "metadata": {},
   "outputs": [
    {
     "data": {
      "text/plain": [
       "{u'_id': ObjectId('5eb113b01dca09bdca31b1b3'), u'r_run_id': u'M_0.91249301878'}"
      ]
     },
     "execution_count": 21,
     "metadata": {},
     "output_type": "execute_result"
    }
   ],
   "source": [
    "suite_table.find_one({'r_run_id': 'M_0.91249301878'})"
   ]
  },
  {
   "cell_type": "code",
   "execution_count": 23,
   "metadata": {},
   "outputs": [],
   "source": [
    "suite_table.drop()"
   ]
  },
  {
   "cell_type": "markdown",
   "metadata": {},
   "source": [
    "# new example"
   ]
  },
  {
   "cell_type": "code",
   "execution_count": 24,
   "metadata": {},
   "outputs": [
    {
     "data": {
      "text/plain": [
       "MongoClient(host=['localhost:27017'], document_class=dict, tz_aware=False, connect=True)"
      ]
     },
     "execution_count": 24,
     "metadata": {},
     "output_type": "execute_result"
    }
   ],
   "source": [
    "client"
   ]
  },
  {
   "cell_type": "code",
   "execution_count": 25,
   "metadata": {},
   "outputs": [
    {
     "data": {
      "text/plain": [
       "Database(MongoClient(host=['localhost:27017'], document_class=dict, tz_aware=False, connect=True), u'sagoyal')"
      ]
     },
     "execution_count": 25,
     "metadata": {},
     "output_type": "execute_result"
    }
   ],
   "source": [
    "sagoyal"
   ]
  },
  {
   "cell_type": "code",
   "execution_count": 30,
   "metadata": {},
   "outputs": [
    {
     "data": {
      "text/plain": [
       "[]"
      ]
     },
     "execution_count": 30,
     "metadata": {},
     "output_type": "execute_result"
    }
   ],
   "source": [
    "sagoyal.list_collection_names()"
   ]
  },
  {
   "cell_type": "code",
   "execution_count": 28,
   "metadata": {},
   "outputs": [],
   "source": [
    "qaf_suite = sagoyal['qaf_suite']"
   ]
  },
  {
   "cell_type": "code",
   "execution_count": 29,
   "metadata": {},
   "outputs": [
    {
     "data": {
      "text/plain": [
       "Collection(Database(MongoClient(host=['localhost:27017'], document_class=dict, tz_aware=False, connect=True), u'sagoyal'), u'qaf_suite')"
      ]
     },
     "execution_count": 29,
     "metadata": {},
     "output_type": "execute_result"
    }
   ],
   "source": [
    "qaf_suite"
   ]
  },
  {
   "cell_type": "code",
   "execution_count": 38,
   "metadata": {},
   "outputs": [],
   "source": [
    "qaf_data = [\n",
    "    {\n",
    "        's_run_id': 'S1',\n",
    "        'runs': [\n",
    "            {\n",
    "                'r_run_id': 'R1',\n",
    "                'testcase': [\n",
    "                    {\n",
    "                        'tc_run_id': 'T1',\n",
    "                        'tc_name': 'tc_name1',\n",
    "                        'tc_status': 'PASS',\n",
    "                        'tc_user': 'sagoyal',\n",
    "                        'product_type': 'UGTF'\n",
    "                    },\n",
    "                    {\n",
    "                        'tc_run_id': 'T2',\n",
    "                        'tc_name': 'tc_name2',\n",
    "                        'tc_status': 'FAIL',\n",
    "                        'tc_user': 'sagoyal',\n",
    "                        'product_type': 'UGTF'\n",
    "                    }]\n",
    "            },\n",
    "            {\n",
    "                'r_run_id': 'R2',\n",
    "                'testcase': [\n",
    "                    {\n",
    "                        'tc_run_id': 'T1',\n",
    "                        'tc_name': 'tc_name1',\n",
    "                        'tc_status': 'PASS',\n",
    "                        'tc_user': 'asrivast',\n",
    "                        'product_type': 'RESTTEST'\n",
    "                    },\n",
    "                    {\n",
    "                        'tc_run_id': 'T2',\n",
    "                        'tc_name': 'tc_name2',\n",
    "                        'tc_status': 'FAIL',\n",
    "                        'tc_user': 'asrivast',\n",
    "                        'product_type': 'RESTTEST'\n",
    "                    }]\n",
    "            }]\n",
    "    }]"
   ]
  },
  {
   "cell_type": "code",
   "execution_count": 39,
   "metadata": {},
   "outputs": [
    {
     "data": {
      "text/plain": [
       "<pymongo.results.InsertManyResult at 0x6efa588>"
      ]
     },
     "execution_count": 39,
     "metadata": {},
     "output_type": "execute_result"
    }
   ],
   "source": [
    "insert_suite = qaf_suite.insert_many(qaf_data)\n",
    "insert_suite"
   ]
  },
  {
   "cell_type": "code",
   "execution_count": 40,
   "metadata": {},
   "outputs": [
    {
     "data": {
      "text/plain": [
       "True"
      ]
     },
     "execution_count": 40,
     "metadata": {},
     "output_type": "execute_result"
    }
   ],
   "source": [
    "insert_suite.acknowledged"
   ]
  },
  {
   "cell_type": "code",
   "execution_count": 70,
   "metadata": {},
   "outputs": [
    {
     "name": "stdout",
     "output_type": "stream",
     "text": [
      "{u'_id': ObjectId('5eb11e36e3cdb373e91f88c4'), u's_run_id': u'S1'}\n",
      "{u'_id': ObjectId('5eb182dbe3cdb373e91f88c5'), u's_run_id': u'S2'}\n"
     ]
    }
   ],
   "source": [
    "for i in qaf_suite.find({'runs.testcase.tc_user': 'sagoyal'},{'s_run_id':1}):\n",
    "    print i"
   ]
  },
  {
   "cell_type": "code",
   "execution_count": 86,
   "metadata": {},
   "outputs": [
    {
     "name": "stdout",
     "output_type": "stream",
     "text": [
      "{u'runs': [{u'testcase': [{u'tc_name': u'tc_name1', u'tc_status': u'PASS', u'tc_user': u'sagoyal', u'product_type': u'UGTF', u'tc_run_id': u'T1'}, {u'tc_name': u'tc_name2', u'tc_status': u'FAIL', u'tc_user': u'sagoyal', u'product_type': u'UGTF', u'tc_run_id': u'T2'}], u'r_run_id': u'R1'}, {u'testcase': [{u'tc_name': u'tc_name1', u'tc_status': u'PASS', u'tc_user': u'asrivast', u'product_type': u'RESTTEST', u'tc_run_id': u'T1'}, {u'tc_name': u'tc_name2', u'tc_status': u'FAIL', u'tc_user': u'asrivast', u'product_type': u'RESTTEST', u'tc_run_id': u'T2'}], u'r_run_id': u'R2'}], u'_id': ObjectId('5eb182dbe3cdb373e91f88c5'), u'r_run_id': u'RUN1', u's_run_id': u'S2'}\n"
     ]
    }
   ],
   "source": [
    "for i in qaf_suite.find({'s_run_id': 'S2', 'runs.r_run_id': 'R1'}):\n",
    "    print i"
   ]
  },
  {
   "cell_type": "code",
   "execution_count": 66,
   "metadata": {},
   "outputs": [],
   "source": [
    "insert_str =  {\n",
    "    's_run_id': 'S2',\n",
    "        'runs': [\n",
    "            {\n",
    "                'r_run_id': 'R1',\n",
    "                'testcase': [\n",
    "                    {\n",
    "                        'tc_run_id': 'T1',\n",
    "                        'tc_name': 'tc_name1',\n",
    "                        'tc_status': 'PASS',\n",
    "                        'tc_user': 'sagoyal',\n",
    "                        'product_type': 'UGTF'\n",
    "                    },\n",
    "                    {\n",
    "                        'tc_run_id': 'T2',\n",
    "                        'tc_name': 'tc_name2',\n",
    "                        'tc_status': 'FAIL',\n",
    "                        'tc_user': 'sagoyal',\n",
    "                        'product_type': 'UGTF'\n",
    "                    }]\n",
    "            },\n",
    "            {\n",
    "                'r_run_id': 'R2',\n",
    "                'testcase': [\n",
    "                    {\n",
    "                        'tc_run_id': 'T1',\n",
    "                        'tc_name': 'tc_name1',\n",
    "                        'tc_status': 'PASS',\n",
    "                        'tc_user': 'asrivast',\n",
    "                        'product_type': 'RESTTEST'\n",
    "                    },\n",
    "                    {\n",
    "                        'tc_run_id': 'T2',\n",
    "                        'tc_name': 'tc_name2',\n",
    "                        'tc_status': 'FAIL',\n",
    "                        'tc_user': 'asrivast',\n",
    "                        'product_type': 'RESTTEST'\n",
    "                    }]\n",
    "            }]\n",
    "    }"
   ]
  },
  {
   "cell_type": "code",
   "execution_count": 67,
   "metadata": {},
   "outputs": [
    {
     "data": {
      "text/plain": [
       "<pymongo.results.InsertOneResult at 0x6f9f748>"
      ]
     },
     "execution_count": 67,
     "metadata": {},
     "output_type": "execute_result"
    }
   ],
   "source": [
    "insert_r = qaf_suite.insert_one(insert_str)\n",
    "insert_r"
   ]
  },
  {
   "cell_type": "code",
   "execution_count": 69,
   "metadata": {},
   "outputs": [
    {
     "data": {
      "text/plain": [
       "ObjectId('5eb182dbe3cdb373e91f88c5')"
      ]
     },
     "execution_count": 69,
     "metadata": {},
     "output_type": "execute_result"
    }
   ],
   "source": [
    "insert_r.inserted_id"
   ]
  },
  {
   "cell_type": "code",
   "execution_count": 92,
   "metadata": {},
   "outputs": [
    {
     "ename": "WriteError",
     "evalue": "Cannot create field 'r_run_id' in element {runs: [ { testcase: [ { tc_name: \"tc_name1\", tc_status: \"PASS\", tc_user: \"sagoyal\", product_type: \"UGTF\", tc_run_id: \"T1\" }, { tc_name: \"tc_name2\", tc_status: \"FAIL\", tc_user: \"sagoyal\", product_type: \"UGTF\", tc_run_id: \"T2\" } ], r_run_id: \"R1\" }, { testcase: [ { tc_name: \"tc_name1\", tc_status: \"PASS\", tc_user: \"asrivast\", product_type: \"RESTTEST\", tc_run_id: \"T1\" }, { tc_name: \"tc_name2\", tc_status: \"FAIL\", tc_user: \"asrivast\", product_type: \"RESTTEST\", tc_run_id: \"T2\" } ], r_run_id: \"R2\" } ]}",
     "output_type": "error",
     "traceback": [
      "\u001b[1;31m---------------------------------------------------------------------------\u001b[0m",
      "\u001b[1;31mWriteError\u001b[0m                                Traceback (most recent call last)",
      "\u001b[1;32m<ipython-input-92-fd963598c3cd>\u001b[0m in \u001b[0;36m<module>\u001b[1;34m()\u001b[0m\n\u001b[0;32m      1\u001b[0m \u001b[0mupdate_f\u001b[0m \u001b[1;33m=\u001b[0m \u001b[1;33m{\u001b[0m\u001b[1;34m'runs.r_run_id'\u001b[0m\u001b[1;33m:\u001b[0m \u001b[1;34m'RUN1'\u001b[0m\u001b[1;33m}\u001b[0m\u001b[1;33m\u001b[0m\u001b[0m\n\u001b[0;32m      2\u001b[0m update_r = qaf_suite.update_one({'s_run_id': 'S2', 'runs.r_run_id': 'R1'},\n\u001b[1;32m----> 3\u001b[1;33m                                {'$set': update_f}, upsert=True)\n\u001b[0m\u001b[0;32m      4\u001b[0m \u001b[0mupdate_r\u001b[0m\u001b[1;33m\u001b[0m\u001b[0m\n",
      "\u001b[1;32mC:\\Users\\Nikhil Goyal\\Documents\\DataScience\\lib\\site-packages\\pymongo\\collection.pyc\u001b[0m in \u001b[0;36mupdate_one\u001b[1;34m(self, filter, update, upsert, bypass_document_validation, collation, array_filters, session)\u001b[0m\n\u001b[0;32m   1001\u001b[0m                 \u001b[0mbypass_doc_val\u001b[0m\u001b[1;33m=\u001b[0m\u001b[0mbypass_document_validation\u001b[0m\u001b[1;33m,\u001b[0m\u001b[1;33m\u001b[0m\u001b[0m\n\u001b[0;32m   1002\u001b[0m                 \u001b[0mcollation\u001b[0m\u001b[1;33m=\u001b[0m\u001b[0mcollation\u001b[0m\u001b[1;33m,\u001b[0m \u001b[0marray_filters\u001b[0m\u001b[1;33m=\u001b[0m\u001b[0marray_filters\u001b[0m\u001b[1;33m,\u001b[0m\u001b[1;33m\u001b[0m\u001b[0m\n\u001b[1;32m-> 1003\u001b[1;33m                 session=session),\n\u001b[0m\u001b[0;32m   1004\u001b[0m             write_concern.acknowledged)\n\u001b[0;32m   1005\u001b[0m \u001b[1;33m\u001b[0m\u001b[0m\n",
      "\u001b[1;32mC:\\Users\\Nikhil Goyal\\Documents\\DataScience\\lib\\site-packages\\pymongo\\collection.pyc\u001b[0m in \u001b[0;36m_update_retryable\u001b[1;34m(self, criteria, document, upsert, check_keys, multi, manipulate, write_concern, op_id, ordered, bypass_doc_val, collation, array_filters, session)\u001b[0m\n\u001b[0;32m    854\u001b[0m         return self.__database.client._retryable_write(\n\u001b[0;32m    855\u001b[0m             \u001b[1;33m(\u001b[0m\u001b[0mwrite_concern\u001b[0m \u001b[1;32mor\u001b[0m \u001b[0mself\u001b[0m\u001b[1;33m.\u001b[0m\u001b[0mwrite_concern\u001b[0m\u001b[1;33m)\u001b[0m\u001b[1;33m.\u001b[0m\u001b[0macknowledged\u001b[0m \u001b[1;32mand\u001b[0m \u001b[1;32mnot\u001b[0m \u001b[0mmulti\u001b[0m\u001b[1;33m,\u001b[0m\u001b[1;33m\u001b[0m\u001b[0m\n\u001b[1;32m--> 856\u001b[1;33m             _update, session)\n\u001b[0m\u001b[0;32m    857\u001b[0m \u001b[1;33m\u001b[0m\u001b[0m\n\u001b[0;32m    858\u001b[0m     def replace_one(self, filter, replacement, upsert=False,\n",
      "\u001b[1;32mC:\\Users\\Nikhil Goyal\\Documents\\DataScience\\lib\\site-packages\\pymongo\\mongo_client.pyc\u001b[0m in \u001b[0;36m_retryable_write\u001b[1;34m(self, retryable, func, session)\u001b[0m\n\u001b[0;32m   1490\u001b[0m         \u001b[1;34m\"\"\"Internal retryable write helper.\"\"\"\u001b[0m\u001b[1;33m\u001b[0m\u001b[0m\n\u001b[0;32m   1491\u001b[0m         \u001b[1;32mwith\u001b[0m \u001b[0mself\u001b[0m\u001b[1;33m.\u001b[0m\u001b[0m_tmp_session\u001b[0m\u001b[1;33m(\u001b[0m\u001b[0msession\u001b[0m\u001b[1;33m)\u001b[0m \u001b[1;32mas\u001b[0m \u001b[0ms\u001b[0m\u001b[1;33m:\u001b[0m\u001b[1;33m\u001b[0m\u001b[0m\n\u001b[1;32m-> 1492\u001b[1;33m             \u001b[1;32mreturn\u001b[0m \u001b[0mself\u001b[0m\u001b[1;33m.\u001b[0m\u001b[0m_retry_with_session\u001b[0m\u001b[1;33m(\u001b[0m\u001b[0mretryable\u001b[0m\u001b[1;33m,\u001b[0m \u001b[0mfunc\u001b[0m\u001b[1;33m,\u001b[0m \u001b[0ms\u001b[0m\u001b[1;33m,\u001b[0m \u001b[0mNone\u001b[0m\u001b[1;33m)\u001b[0m\u001b[1;33m\u001b[0m\u001b[0m\n\u001b[0m\u001b[0;32m   1493\u001b[0m \u001b[1;33m\u001b[0m\u001b[0m\n\u001b[0;32m   1494\u001b[0m     \u001b[1;32mdef\u001b[0m \u001b[0m_reset_server\u001b[0m\u001b[1;33m(\u001b[0m\u001b[0mself\u001b[0m\u001b[1;33m,\u001b[0m \u001b[0maddress\u001b[0m\u001b[1;33m)\u001b[0m\u001b[1;33m:\u001b[0m\u001b[1;33m\u001b[0m\u001b[0m\n",
      "\u001b[1;32mC:\\Users\\Nikhil Goyal\\Documents\\DataScience\\lib\\site-packages\\pymongo\\mongo_client.pyc\u001b[0m in \u001b[0;36m_retry_with_session\u001b[1;34m(self, retryable, func, session, bulk)\u001b[0m\n\u001b[0;32m   1383\u001b[0m                             \u001b[1;32mraise\u001b[0m \u001b[0mlast_error\u001b[0m\u001b[1;33m\u001b[0m\u001b[0m\n\u001b[0;32m   1384\u001b[0m                         \u001b[0mretryable\u001b[0m \u001b[1;33m=\u001b[0m \u001b[0mFalse\u001b[0m\u001b[1;33m\u001b[0m\u001b[0m\n\u001b[1;32m-> 1385\u001b[1;33m                     \u001b[1;32mreturn\u001b[0m \u001b[0mfunc\u001b[0m\u001b[1;33m(\u001b[0m\u001b[0msession\u001b[0m\u001b[1;33m,\u001b[0m \u001b[0msock_info\u001b[0m\u001b[1;33m,\u001b[0m \u001b[0mretryable\u001b[0m\u001b[1;33m)\u001b[0m\u001b[1;33m\u001b[0m\u001b[0m\n\u001b[0m\u001b[0;32m   1386\u001b[0m             \u001b[1;32mexcept\u001b[0m \u001b[0mServerSelectionTimeoutError\u001b[0m\u001b[1;33m:\u001b[0m\u001b[1;33m\u001b[0m\u001b[0m\n\u001b[0;32m   1387\u001b[0m                 \u001b[1;32mif\u001b[0m \u001b[0mis_retrying\u001b[0m\u001b[1;33m(\u001b[0m\u001b[1;33m)\u001b[0m\u001b[1;33m:\u001b[0m\u001b[1;33m\u001b[0m\u001b[0m\n",
      "\u001b[1;32mC:\\Users\\Nikhil Goyal\\Documents\\DataScience\\lib\\site-packages\\pymongo\\collection.pyc\u001b[0m in \u001b[0;36m_update\u001b[1;34m(session, sock_info, retryable_write)\u001b[0m\n\u001b[0;32m    850\u001b[0m                 \u001b[0mbypass_doc_val\u001b[0m\u001b[1;33m=\u001b[0m\u001b[0mbypass_doc_val\u001b[0m\u001b[1;33m,\u001b[0m \u001b[0mcollation\u001b[0m\u001b[1;33m=\u001b[0m\u001b[0mcollation\u001b[0m\u001b[1;33m,\u001b[0m\u001b[1;33m\u001b[0m\u001b[0m\n\u001b[0;32m    851\u001b[0m                 \u001b[0marray_filters\u001b[0m\u001b[1;33m=\u001b[0m\u001b[0marray_filters\u001b[0m\u001b[1;33m,\u001b[0m \u001b[0msession\u001b[0m\u001b[1;33m=\u001b[0m\u001b[0msession\u001b[0m\u001b[1;33m,\u001b[0m\u001b[1;33m\u001b[0m\u001b[0m\n\u001b[1;32m--> 852\u001b[1;33m                 retryable_write=retryable_write)\n\u001b[0m\u001b[0;32m    853\u001b[0m \u001b[1;33m\u001b[0m\u001b[0m\n\u001b[0;32m    854\u001b[0m         return self.__database.client._retryable_write(\n",
      "\u001b[1;32mC:\\Users\\Nikhil Goyal\\Documents\\DataScience\\lib\\site-packages\\pymongo\\collection.pyc\u001b[0m in \u001b[0;36m_update\u001b[1;34m(self, sock_info, criteria, document, upsert, check_keys, multi, manipulate, write_concern, op_id, ordered, bypass_doc_val, collation, array_filters, session, retryable_write)\u001b[0m\n\u001b[0;32m    821\u001b[0m             \u001b[0mclient\u001b[0m\u001b[1;33m=\u001b[0m\u001b[0mself\u001b[0m\u001b[1;33m.\u001b[0m\u001b[0m__database\u001b[0m\u001b[1;33m.\u001b[0m\u001b[0mclient\u001b[0m\u001b[1;33m,\u001b[0m\u001b[1;33m\u001b[0m\u001b[0m\n\u001b[0;32m    822\u001b[0m             retryable_write=retryable_write).copy()\n\u001b[1;32m--> 823\u001b[1;33m         \u001b[0m_check_write_command_response\u001b[0m\u001b[1;33m(\u001b[0m\u001b[0mresult\u001b[0m\u001b[1;33m)\u001b[0m\u001b[1;33m\u001b[0m\u001b[0m\n\u001b[0m\u001b[0;32m    824\u001b[0m         \u001b[1;31m# Add the updatedExisting field for compatibility.\u001b[0m\u001b[1;33m\u001b[0m\u001b[1;33m\u001b[0m\u001b[0m\n\u001b[0;32m    825\u001b[0m         \u001b[1;32mif\u001b[0m \u001b[0mresult\u001b[0m\u001b[1;33m.\u001b[0m\u001b[0mget\u001b[0m\u001b[1;33m(\u001b[0m\u001b[1;34m'n'\u001b[0m\u001b[1;33m)\u001b[0m \u001b[1;32mand\u001b[0m \u001b[1;34m'upserted'\u001b[0m \u001b[1;32mnot\u001b[0m \u001b[1;32min\u001b[0m \u001b[0mresult\u001b[0m\u001b[1;33m:\u001b[0m\u001b[1;33m\u001b[0m\u001b[0m\n",
      "\u001b[1;32mC:\\Users\\Nikhil Goyal\\Documents\\DataScience\\lib\\site-packages\\pymongo\\helpers.pyc\u001b[0m in \u001b[0;36m_check_write_command_response\u001b[1;34m(result)\u001b[0m\n\u001b[0;32m    219\u001b[0m     \u001b[0mwrite_errors\u001b[0m \u001b[1;33m=\u001b[0m \u001b[0mresult\u001b[0m\u001b[1;33m.\u001b[0m\u001b[0mget\u001b[0m\u001b[1;33m(\u001b[0m\u001b[1;34m\"writeErrors\"\u001b[0m\u001b[1;33m)\u001b[0m\u001b[1;33m\u001b[0m\u001b[0m\n\u001b[0;32m    220\u001b[0m     \u001b[1;32mif\u001b[0m \u001b[0mwrite_errors\u001b[0m\u001b[1;33m:\u001b[0m\u001b[1;33m\u001b[0m\u001b[0m\n\u001b[1;32m--> 221\u001b[1;33m         \u001b[0m_raise_last_write_error\u001b[0m\u001b[1;33m(\u001b[0m\u001b[0mwrite_errors\u001b[0m\u001b[1;33m)\u001b[0m\u001b[1;33m\u001b[0m\u001b[0m\n\u001b[0m\u001b[0;32m    222\u001b[0m \u001b[1;33m\u001b[0m\u001b[0m\n\u001b[0;32m    223\u001b[0m     \u001b[0merror\u001b[0m \u001b[1;33m=\u001b[0m \u001b[0mresult\u001b[0m\u001b[1;33m.\u001b[0m\u001b[0mget\u001b[0m\u001b[1;33m(\u001b[0m\u001b[1;34m\"writeConcernError\"\u001b[0m\u001b[1;33m)\u001b[0m\u001b[1;33m\u001b[0m\u001b[0m\n",
      "\u001b[1;32mC:\\Users\\Nikhil Goyal\\Documents\\DataScience\\lib\\site-packages\\pymongo\\helpers.pyc\u001b[0m in \u001b[0;36m_raise_last_write_error\u001b[1;34m(write_errors)\u001b[0m\n\u001b[0;32m    201\u001b[0m     \u001b[1;32mif\u001b[0m \u001b[0merror\u001b[0m\u001b[1;33m.\u001b[0m\u001b[0mget\u001b[0m\u001b[1;33m(\u001b[0m\u001b[1;34m\"code\"\u001b[0m\u001b[1;33m)\u001b[0m \u001b[1;33m==\u001b[0m \u001b[1;36m11000\u001b[0m\u001b[1;33m:\u001b[0m\u001b[1;33m\u001b[0m\u001b[0m\n\u001b[0;32m    202\u001b[0m         \u001b[1;32mraise\u001b[0m \u001b[0mDuplicateKeyError\u001b[0m\u001b[1;33m(\u001b[0m\u001b[0merror\u001b[0m\u001b[1;33m.\u001b[0m\u001b[0mget\u001b[0m\u001b[1;33m(\u001b[0m\u001b[1;34m\"errmsg\"\u001b[0m\u001b[1;33m)\u001b[0m\u001b[1;33m,\u001b[0m \u001b[1;36m11000\u001b[0m\u001b[1;33m,\u001b[0m \u001b[0merror\u001b[0m\u001b[1;33m)\u001b[0m\u001b[1;33m\u001b[0m\u001b[0m\n\u001b[1;32m--> 203\u001b[1;33m     \u001b[1;32mraise\u001b[0m \u001b[0mWriteError\u001b[0m\u001b[1;33m(\u001b[0m\u001b[0merror\u001b[0m\u001b[1;33m.\u001b[0m\u001b[0mget\u001b[0m\u001b[1;33m(\u001b[0m\u001b[1;34m\"errmsg\"\u001b[0m\u001b[1;33m)\u001b[0m\u001b[1;33m,\u001b[0m \u001b[0merror\u001b[0m\u001b[1;33m.\u001b[0m\u001b[0mget\u001b[0m\u001b[1;33m(\u001b[0m\u001b[1;34m\"code\"\u001b[0m\u001b[1;33m)\u001b[0m\u001b[1;33m,\u001b[0m \u001b[0merror\u001b[0m\u001b[1;33m)\u001b[0m\u001b[1;33m\u001b[0m\u001b[0m\n\u001b[0m\u001b[0;32m    204\u001b[0m \u001b[1;33m\u001b[0m\u001b[0m\n\u001b[0;32m    205\u001b[0m \u001b[1;33m\u001b[0m\u001b[0m\n",
      "\u001b[1;31mWriteError\u001b[0m: Cannot create field 'r_run_id' in element {runs: [ { testcase: [ { tc_name: \"tc_name1\", tc_status: \"PASS\", tc_user: \"sagoyal\", product_type: \"UGTF\", tc_run_id: \"T1\" }, { tc_name: \"tc_name2\", tc_status: \"FAIL\", tc_user: \"sagoyal\", product_type: \"UGTF\", tc_run_id: \"T2\" } ], r_run_id: \"R1\" }, { testcase: [ { tc_name: \"tc_name1\", tc_status: \"PASS\", tc_user: \"asrivast\", product_type: \"RESTTEST\", tc_run_id: \"T1\" }, { tc_name: \"tc_name2\", tc_status: \"FAIL\", tc_user: \"asrivast\", product_type: \"RESTTEST\", tc_run_id: \"T2\" } ], r_run_id: \"R2\" } ]}"
     ]
    }
   ],
   "source": [
    "update_f = {'runs.r_run_id': 'RUN1'}\n",
    "update_r = qaf_suite.update_one({'s_run_id': 'S2', 'runs': {''}},\n",
    "                               {'$set': update_f}, upsert=True)\n",
    "update_r\n",
    ".update(Authors:{$elemMatch:{Slug:\"slug\"}}, {$set: {'Authors.$.Name':\"zzz\"}});"
   ]
  },
  {
   "cell_type": "code",
   "execution_count": 88,
   "metadata": {},
   "outputs": [
    {
     "data": {
      "text/plain": [
       "{u'n': 1, u'nModified': 1, u'ok': 1.0, 'updatedExisting': True}"
      ]
     },
     "execution_count": 88,
     "metadata": {},
     "output_type": "execute_result"
    }
   ],
   "source": [
    "update_r.raw_result"
   ]
  },
  {
   "cell_type": "code",
   "execution_count": 91,
   "metadata": {},
   "outputs": [
    {
     "name": "stdout",
     "output_type": "stream",
     "text": [
      "{u'_id': ObjectId('5eb11e36e3cdb373e91f88c4'), u's_run_id': u'S1'}\n",
      "{u'_id': ObjectId('5eb182dbe3cdb373e91f88c5'), u'r_run_id': u'RUN1', u's_run_id': u'S2'}\n"
     ]
    }
   ],
   "source": [
    "for i in qaf_suite.find({},{'s_run_id':1,'r_run_id':1}):\n",
    "    print i"
   ]
  }
 ],
 "metadata": {
  "kernelspec": {
   "display_name": "Python 3",
   "language": "python",
   "name": "python3"
  },
  "language_info": {
   "codemirror_mode": {
    "name": "ipython",
    "version": 3
   },
   "file_extension": ".py",
   "mimetype": "text/x-python",
   "name": "python",
   "nbconvert_exporter": "python",
   "pygments_lexer": "ipython3",
   "version": "3.7.6"
  }
 },
 "nbformat": 4,
 "nbformat_minor": 2
}
